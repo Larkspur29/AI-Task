{
 "cells": [
  {
   "cell_type": "markdown",
   "id": "5f1eb51c",
   "metadata": {
    "papermill": {
     "duration": 0.005188,
     "end_time": "2023-05-30T16:39:48.649953",
     "exception": false,
     "start_time": "2023-05-30T16:39:48.644765",
     "status": "completed"
    },
    "tags": []
   },
   "source": [
    "**This notebook is an exercise in the [Introduction to Machine Learning](https://www.kaggle.com/learn/intro-to-machine-learning) course.  You can reference the tutorial at [this link](https://www.kaggle.com/dansbecker/your-first-machine-learning-model).**\n",
    "\n",
    "---\n"
   ]
  },
  {
   "cell_type": "markdown",
   "id": "538a908f",
   "metadata": {
    "papermill": {
     "duration": 0.004395,
     "end_time": "2023-05-30T16:39:48.659155",
     "exception": false,
     "start_time": "2023-05-30T16:39:48.654760",
     "status": "completed"
    },
    "tags": []
   },
   "source": [
    "## Recap\n",
    "So far, you have loaded your data and reviewed it with the following code. Run this cell to set up your coding environment where the previous step left off."
   ]
  },
  {
   "cell_type": "code",
   "execution_count": 1,
   "id": "0509dd4e",
   "metadata": {
    "execution": {
     "iopub.execute_input": "2023-05-30T16:39:48.671400Z",
     "iopub.status.busy": "2023-05-30T16:39:48.670603Z",
     "iopub.status.idle": "2023-05-30T16:39:50.534477Z",
     "shell.execute_reply": "2023-05-30T16:39:50.533270Z"
    },
    "papermill": {
     "duration": 1.873209,
     "end_time": "2023-05-30T16:39:50.537326",
     "exception": false,
     "start_time": "2023-05-30T16:39:48.664117",
     "status": "completed"
    },
    "tags": []
   },
   "outputs": [
    {
     "name": "stdout",
     "output_type": "stream",
     "text": [
      "Setup Complete\n"
     ]
    }
   ],
   "source": [
    "# Code you have previously used to load data\n",
    "import pandas as pd\n",
    "\n",
    "# Path of the file to read\n",
    "iowa_file_path = '../input/home-data-for-ml-course/train.csv'\n",
    "\n",
    "home_data = pd.read_csv(iowa_file_path)\n",
    "\n",
    "# Set up code checking\n",
    "from learntools.core import binder\n",
    "binder.bind(globals())\n",
    "from learntools.machine_learning.ex3 import *\n",
    "\n",
    "print(\"Setup Complete\")"
   ]
  },
  {
   "cell_type": "markdown",
   "id": "73a692b4",
   "metadata": {
    "papermill": {
     "duration": 0.005098,
     "end_time": "2023-05-30T16:39:50.547521",
     "exception": false,
     "start_time": "2023-05-30T16:39:50.542423",
     "status": "completed"
    },
    "tags": []
   },
   "source": [
    "# Exercises\n",
    "\n",
    "## Step 1: Specify Prediction Target\n",
    "Select the target variable, which corresponds to the sales price. Save this to a new variable called `y`. You'll need to print a list of the columns to find the name of the column you need.\n"
   ]
  },
  {
   "cell_type": "code",
   "execution_count": 2,
   "id": "7ef1bd71",
   "metadata": {
    "execution": {
     "iopub.execute_input": "2023-05-30T16:39:50.558592Z",
     "iopub.status.busy": "2023-05-30T16:39:50.558202Z",
     "iopub.status.idle": "2023-05-30T16:39:50.563798Z",
     "shell.execute_reply": "2023-05-30T16:39:50.562902Z"
    },
    "papermill": {
     "duration": 0.013653,
     "end_time": "2023-05-30T16:39:50.565888",
     "exception": false,
     "start_time": "2023-05-30T16:39:50.552235",
     "status": "completed"
    },
    "tags": []
   },
   "outputs": [],
   "source": [
    "# print the list of columns in the dataset to find the name of the prediction target\n"
   ]
  },
  {
   "cell_type": "code",
   "execution_count": 3,
   "id": "740ebcd2",
   "metadata": {
    "execution": {
     "iopub.execute_input": "2023-05-30T16:39:50.579063Z",
     "iopub.status.busy": "2023-05-30T16:39:50.578336Z",
     "iopub.status.idle": "2023-05-30T16:39:50.593644Z",
     "shell.execute_reply": "2023-05-30T16:39:50.592860Z"
    },
    "papermill": {
     "duration": 0.024911,
     "end_time": "2023-05-30T16:39:50.595576",
     "exception": false,
     "start_time": "2023-05-30T16:39:50.570665",
     "status": "completed"
    },
    "tags": []
   },
   "outputs": [
    {
     "data": {
      "application/javascript": [
       "parent.postMessage({\"jupyterEvent\": \"custom.exercise_interaction\", \"data\": {\"outcomeType\": 1, \"valueTowardsCompletion\": 0.25, \"interactionType\": 1, \"questionType\": 2, \"questionId\": \"1_SetTarget\", \"learnToolsVersion\": \"0.3.4\", \"failureMessage\": \"\", \"exceptionClass\": \"\", \"trace\": \"\"}}, \"*\")"
      ],
      "text/plain": [
       "<IPython.core.display.Javascript object>"
      ]
     },
     "metadata": {},
     "output_type": "display_data"
    },
    {
     "data": {
      "text/markdown": [
       "<span style=\"color:#33cc33\">Correct</span>"
      ],
      "text/plain": [
       "Correct"
      ]
     },
     "metadata": {},
     "output_type": "display_data"
    }
   ],
   "source": [
    "y =home_data.SalePrice\n",
    "\n",
    "# Check your answer\n",
    "step_1.check()"
   ]
  },
  {
   "cell_type": "code",
   "execution_count": 4,
   "id": "61c1ceb6",
   "metadata": {
    "execution": {
     "iopub.execute_input": "2023-05-30T16:39:50.607770Z",
     "iopub.status.busy": "2023-05-30T16:39:50.607015Z",
     "iopub.status.idle": "2023-05-30T16:39:50.619204Z",
     "shell.execute_reply": "2023-05-30T16:39:50.618136Z"
    },
    "papermill": {
     "duration": 0.020665,
     "end_time": "2023-05-30T16:39:50.621257",
     "exception": false,
     "start_time": "2023-05-30T16:39:50.600592",
     "status": "completed"
    },
    "tags": []
   },
   "outputs": [
    {
     "data": {
      "application/javascript": [
       "parent.postMessage({\"jupyterEvent\": \"custom.exercise_interaction\", \"data\": {\"interactionType\": 2, \"questionType\": 2, \"questionId\": \"1_SetTarget\", \"learnToolsVersion\": \"0.3.4\", \"valueTowardsCompletion\": 0.0, \"failureMessage\": \"\", \"exceptionClass\": \"\", \"trace\": \"\", \"outcomeType\": 4}}, \"*\")"
      ],
      "text/plain": [
       "<IPython.core.display.Javascript object>"
      ]
     },
     "metadata": {},
     "output_type": "display_data"
    },
    {
     "data": {
      "text/markdown": [
       "<span style=\"color:#3366cc\">Hint:</span> Use `print(home_data.columns)`. The column you want is at the end of the list. Use the dot notation to pull out this column from the DataFrame"
      ],
      "text/plain": [
       "Hint: Use `print(home_data.columns)`. The column you want is at the end of the list. Use the dot notation to pull out this column from the DataFrame"
      ]
     },
     "metadata": {},
     "output_type": "display_data"
    },
    {
     "data": {
      "application/javascript": [
       "parent.postMessage({\"jupyterEvent\": \"custom.exercise_interaction\", \"data\": {\"interactionType\": 3, \"questionType\": 2, \"questionId\": \"1_SetTarget\", \"learnToolsVersion\": \"0.3.4\", \"valueTowardsCompletion\": 0.0, \"failureMessage\": \"\", \"exceptionClass\": \"\", \"trace\": \"\", \"outcomeType\": 4}}, \"*\")"
      ],
      "text/plain": [
       "<IPython.core.display.Javascript object>"
      ]
     },
     "metadata": {},
     "output_type": "display_data"
    },
    {
     "data": {
      "text/markdown": [
       "<span style=\"color:#33cc99\">Solution:</span> \n",
       "```python\n",
       "y = home_data.SalePrice\n",
       "```"
      ],
      "text/plain": [
       "Solution: \n",
       "```python\n",
       "y = home_data.SalePrice\n",
       "```"
      ]
     },
     "metadata": {},
     "output_type": "display_data"
    }
   ],
   "source": [
    "# The lines below will show you a hint or the solution.\n",
    "step_1.hint() \n",
    "step_1.solution()"
   ]
  },
  {
   "cell_type": "markdown",
   "id": "f781ef7e",
   "metadata": {
    "papermill": {
     "duration": 0.005138,
     "end_time": "2023-05-30T16:39:50.631957",
     "exception": false,
     "start_time": "2023-05-30T16:39:50.626819",
     "status": "completed"
    },
    "tags": []
   },
   "source": [
    "## Step 2: Create X\n",
    "Now you will create a DataFrame called `X` holding the predictive features.\n",
    "\n",
    "Since you want only some columns from the original data, you'll first create a list with the names of the columns you want in `X`.\n",
    "\n",
    "You'll use just the following columns in the list (you can copy and paste the whole list to save some typing, though you'll still need to add quotes):\n",
    "  * LotArea\n",
    "  * YearBuilt\n",
    "  * 1stFlrSF\n",
    "  * 2ndFlrSF\n",
    "  * FullBath\n",
    "  * BedroomAbvGr\n",
    "  * TotRmsAbvGrd\n",
    "\n",
    "After you've created that list of features, use it to create the DataFrame that you'll use to fit the model."
   ]
  },
  {
   "cell_type": "code",
   "execution_count": 5,
   "id": "fd2c35f1",
   "metadata": {
    "execution": {
     "iopub.execute_input": "2023-05-30T16:39:50.644916Z",
     "iopub.status.busy": "2023-05-30T16:39:50.644309Z",
     "iopub.status.idle": "2023-05-30T16:39:50.659013Z",
     "shell.execute_reply": "2023-05-30T16:39:50.658229Z"
    },
    "papermill": {
     "duration": 0.023692,
     "end_time": "2023-05-30T16:39:50.661017",
     "exception": false,
     "start_time": "2023-05-30T16:39:50.637325",
     "status": "completed"
    },
    "tags": []
   },
   "outputs": [
    {
     "data": {
      "application/javascript": [
       "parent.postMessage({\"jupyterEvent\": \"custom.exercise_interaction\", \"data\": {\"outcomeType\": 1, \"valueTowardsCompletion\": 0.25, \"interactionType\": 1, \"questionType\": 2, \"questionId\": \"2_SelectPredictionData\", \"learnToolsVersion\": \"0.3.4\", \"failureMessage\": \"\", \"exceptionClass\": \"\", \"trace\": \"\"}}, \"*\")"
      ],
      "text/plain": [
       "<IPython.core.display.Javascript object>"
      ]
     },
     "metadata": {},
     "output_type": "display_data"
    },
    {
     "data": {
      "text/markdown": [
       "<span style=\"color:#33cc33\">Correct</span>"
      ],
      "text/plain": [
       "Correct"
      ]
     },
     "metadata": {},
     "output_type": "display_data"
    }
   ],
   "source": [
    "# Create the list of features below\n",
    "feature_names = ['LotArea','YearBuilt','1stFlrSF','2ndFlrSF','FullBath','BedroomAbvGr','TotRmsAbvGrd']\n",
    "\n",
    "# Select data corresponding to features in feature_names\n",
    "X = home_data[feature_names]\n",
    "\n",
    "# Check your answer\n",
    "step_2.check()"
   ]
  },
  {
   "cell_type": "code",
   "execution_count": 6,
   "id": "11642326",
   "metadata": {
    "collapsed": true,
    "execution": {
     "iopub.execute_input": "2023-05-30T16:39:50.674726Z",
     "iopub.status.busy": "2023-05-30T16:39:50.674101Z",
     "iopub.status.idle": "2023-05-30T16:39:50.677766Z",
     "shell.execute_reply": "2023-05-30T16:39:50.676911Z"
    },
    "jupyter": {
     "outputs_hidden": true
    },
    "papermill": {
     "duration": 0.013447,
     "end_time": "2023-05-30T16:39:50.680202",
     "exception": false,
     "start_time": "2023-05-30T16:39:50.666755",
     "status": "completed"
    },
    "tags": []
   },
   "outputs": [],
   "source": [
    "# step_2.hint()\n",
    "# step_2.solution()"
   ]
  },
  {
   "cell_type": "markdown",
   "id": "73e73aff",
   "metadata": {
    "papermill": {
     "duration": 0.005772,
     "end_time": "2023-05-30T16:39:50.692378",
     "exception": false,
     "start_time": "2023-05-30T16:39:50.686606",
     "status": "completed"
    },
    "tags": []
   },
   "source": [
    "## Review Data\n",
    "Before building a model, take a quick look at **X** to verify it looks sensible"
   ]
  },
  {
   "cell_type": "code",
   "execution_count": 7,
   "id": "39789ebb",
   "metadata": {
    "collapsed": true,
    "execution": {
     "iopub.execute_input": "2023-05-30T16:39:50.705997Z",
     "iopub.status.busy": "2023-05-30T16:39:50.705379Z",
     "iopub.status.idle": "2023-05-30T16:39:50.709680Z",
     "shell.execute_reply": "2023-05-30T16:39:50.708879Z"
    },
    "jupyter": {
     "outputs_hidden": true
    },
    "papermill": {
     "duration": 0.013452,
     "end_time": "2023-05-30T16:39:50.711639",
     "exception": false,
     "start_time": "2023-05-30T16:39:50.698187",
     "status": "completed"
    },
    "tags": []
   },
   "outputs": [],
   "source": [
    "# Review data\n",
    "# print description or statistics from X\n",
    "#print(_)\n",
    "\n",
    "# print the top few lines\n",
    "#print(_)"
   ]
  },
  {
   "cell_type": "markdown",
   "id": "5e793115",
   "metadata": {
    "papermill": {
     "duration": 0.005544,
     "end_time": "2023-05-30T16:39:50.723082",
     "exception": false,
     "start_time": "2023-05-30T16:39:50.717538",
     "status": "completed"
    },
    "tags": []
   },
   "source": [
    "## Step 3: Specify and Fit Model\n",
    "Create a `DecisionTreeRegressor` and save it iowa_model. Ensure you've done the relevant import from sklearn to run this command.\n",
    "\n",
    "Then fit the model you just created using the data in `X` and `y` that you saved above."
   ]
  },
  {
   "cell_type": "code",
   "execution_count": 8,
   "id": "c50b3cd3",
   "metadata": {
    "execution": {
     "iopub.execute_input": "2023-05-30T16:39:50.736550Z",
     "iopub.status.busy": "2023-05-30T16:39:50.735902Z",
     "iopub.status.idle": "2023-05-30T16:39:50.755019Z",
     "shell.execute_reply": "2023-05-30T16:39:50.754171Z"
    },
    "papermill": {
     "duration": 0.028313,
     "end_time": "2023-05-30T16:39:50.757100",
     "exception": false,
     "start_time": "2023-05-30T16:39:50.728787",
     "status": "completed"
    },
    "tags": []
   },
   "outputs": [
    {
     "data": {
      "application/javascript": [
       "parent.postMessage({\"jupyterEvent\": \"custom.exercise_interaction\", \"data\": {\"outcomeType\": 1, \"valueTowardsCompletion\": 0.25, \"interactionType\": 1, \"questionType\": 2, \"questionId\": \"3_CreateModel\", \"learnToolsVersion\": \"0.3.4\", \"failureMessage\": \"\", \"exceptionClass\": \"\", \"trace\": \"\"}}, \"*\")"
      ],
      "text/plain": [
       "<IPython.core.display.Javascript object>"
      ]
     },
     "metadata": {},
     "output_type": "display_data"
    },
    {
     "data": {
      "text/markdown": [
       "<span style=\"color:#33cc33\">Correct</span>"
      ],
      "text/plain": [
       "Correct"
      ]
     },
     "metadata": {},
     "output_type": "display_data"
    }
   ],
   "source": [
    "from sklearn.tree import DecisionTreeRegressor\n",
    "#specify the model. \n",
    "#For model reproducibility, set a numeric value for random_state when specifying the model\n",
    "iowa_model = DecisionTreeRegressor(random_state=1)\n",
    "\n",
    "# Fit the model\n",
    "iowa_model.fit(X,y)\n",
    "# Check your answer\n",
    "step_3.check()"
   ]
  },
  {
   "cell_type": "code",
   "execution_count": 9,
   "id": "d65b2efa",
   "metadata": {
    "collapsed": true,
    "execution": {
     "iopub.execute_input": "2023-05-30T16:39:50.770958Z",
     "iopub.status.busy": "2023-05-30T16:39:50.770562Z",
     "iopub.status.idle": "2023-05-30T16:39:50.774389Z",
     "shell.execute_reply": "2023-05-30T16:39:50.773664Z"
    },
    "jupyter": {
     "outputs_hidden": true
    },
    "papermill": {
     "duration": 0.013232,
     "end_time": "2023-05-30T16:39:50.776251",
     "exception": false,
     "start_time": "2023-05-30T16:39:50.763019",
     "status": "completed"
    },
    "tags": []
   },
   "outputs": [],
   "source": [
    "# step_3.hint()\n",
    "# step_3.solution()"
   ]
  },
  {
   "cell_type": "markdown",
   "id": "c9125c0e",
   "metadata": {
    "papermill": {
     "duration": 0.005854,
     "end_time": "2023-05-30T16:39:50.788220",
     "exception": false,
     "start_time": "2023-05-30T16:39:50.782366",
     "status": "completed"
    },
    "tags": []
   },
   "source": [
    "## Step 4: Make Predictions\n",
    "Make predictions with the model's `predict` command using `X` as the data. Save the results to a variable called `predictions`."
   ]
  },
  {
   "cell_type": "code",
   "execution_count": 10,
   "id": "535720b5",
   "metadata": {
    "execution": {
     "iopub.execute_input": "2023-05-30T16:39:50.802246Z",
     "iopub.status.busy": "2023-05-30T16:39:50.801654Z",
     "iopub.status.idle": "2023-05-30T16:39:50.815189Z",
     "shell.execute_reply": "2023-05-30T16:39:50.814115Z"
    },
    "papermill": {
     "duration": 0.023108,
     "end_time": "2023-05-30T16:39:50.817352",
     "exception": false,
     "start_time": "2023-05-30T16:39:50.794244",
     "status": "completed"
    },
    "tags": []
   },
   "outputs": [
    {
     "name": "stdout",
     "output_type": "stream",
     "text": [
      "[208500. 181500. 223500. ... 266500. 142125. 147500.]\n"
     ]
    },
    {
     "data": {
      "application/javascript": [
       "parent.postMessage({\"jupyterEvent\": \"custom.exercise_interaction\", \"data\": {\"outcomeType\": 1, \"valueTowardsCompletion\": 0.25, \"interactionType\": 1, \"questionType\": 2, \"questionId\": \"4_MakePredictions\", \"learnToolsVersion\": \"0.3.4\", \"failureMessage\": \"\", \"exceptionClass\": \"\", \"trace\": \"\"}}, \"*\")"
      ],
      "text/plain": [
       "<IPython.core.display.Javascript object>"
      ]
     },
     "metadata": {},
     "output_type": "display_data"
    },
    {
     "data": {
      "text/markdown": [
       "<span style=\"color:#33cc33\">Correct</span>"
      ],
      "text/plain": [
       "Correct"
      ]
     },
     "metadata": {},
     "output_type": "display_data"
    }
   ],
   "source": [
    "predictions = iowa_model.predict(X)\n",
    "print(predictions)\n",
    "\n",
    "# Check your answer\n",
    "step_4.check()"
   ]
  },
  {
   "cell_type": "code",
   "execution_count": 11,
   "id": "22cbe9e9",
   "metadata": {
    "collapsed": true,
    "execution": {
     "iopub.execute_input": "2023-05-30T16:39:50.832204Z",
     "iopub.status.busy": "2023-05-30T16:39:50.831788Z",
     "iopub.status.idle": "2023-05-30T16:39:50.836112Z",
     "shell.execute_reply": "2023-05-30T16:39:50.835039Z"
    },
    "jupyter": {
     "outputs_hidden": true
    },
    "papermill": {
     "duration": 0.014271,
     "end_time": "2023-05-30T16:39:50.838239",
     "exception": false,
     "start_time": "2023-05-30T16:39:50.823968",
     "status": "completed"
    },
    "tags": []
   },
   "outputs": [],
   "source": [
    "# step_4.hint()\n",
    "# step_4.solution()"
   ]
  },
  {
   "cell_type": "markdown",
   "id": "43efac87",
   "metadata": {
    "papermill": {
     "duration": 0.006085,
     "end_time": "2023-05-30T16:39:50.850710",
     "exception": false,
     "start_time": "2023-05-30T16:39:50.844625",
     "status": "completed"
    },
    "tags": []
   },
   "source": [
    "## Think About Your Results\n",
    "\n",
    "Use the `head` method to compare the top few predictions to the actual home values (in `y`) for those same homes. Anything surprising?\n"
   ]
  },
  {
   "cell_type": "code",
   "execution_count": 12,
   "id": "9bc151e8",
   "metadata": {
    "execution": {
     "iopub.execute_input": "2023-05-30T16:39:50.865475Z",
     "iopub.status.busy": "2023-05-30T16:39:50.865081Z",
     "iopub.status.idle": "2023-05-30T16:39:50.869544Z",
     "shell.execute_reply": "2023-05-30T16:39:50.868365Z"
    },
    "papermill": {
     "duration": 0.014657,
     "end_time": "2023-05-30T16:39:50.871853",
     "exception": false,
     "start_time": "2023-05-30T16:39:50.857196",
     "status": "completed"
    },
    "tags": []
   },
   "outputs": [],
   "source": [
    "# You can write code in this cell\n"
   ]
  },
  {
   "cell_type": "markdown",
   "id": "8f2f2180",
   "metadata": {
    "papermill": {
     "duration": 0.006193,
     "end_time": "2023-05-30T16:39:50.884609",
     "exception": false,
     "start_time": "2023-05-30T16:39:50.878416",
     "status": "completed"
    },
    "tags": []
   },
   "source": [
    "It's natural to ask how accurate the model's predictions will be and how you can improve that. That will be you're next step.\n",
    "\n",
    "# Keep Going\n",
    "\n",
    "You are ready for **[Model Validation](https://www.kaggle.com/dansbecker/model-validation).**\n"
   ]
  },
  {
   "cell_type": "markdown",
   "id": "cb2c63af",
   "metadata": {
    "papermill": {
     "duration": 0.006095,
     "end_time": "2023-05-30T16:39:50.897316",
     "exception": false,
     "start_time": "2023-05-30T16:39:50.891221",
     "status": "completed"
    },
    "tags": []
   },
   "source": [
    "---\n",
    "\n",
    "\n",
    "\n",
    "\n",
    "*Have questions or comments? Visit the [course discussion forum](https://www.kaggle.com/learn/intro-to-machine-learning/discussion) to chat with other learners.*"
   ]
  }
 ],
 "metadata": {
  "kernelspec": {
   "display_name": "Python 3",
   "language": "python",
   "name": "python3"
  },
  "language_info": {
   "codemirror_mode": {
    "name": "ipython",
    "version": 3
   },
   "file_extension": ".py",
   "mimetype": "text/x-python",
   "name": "python",
   "nbconvert_exporter": "python",
   "pygments_lexer": "ipython3",
   "version": "3.10.10"
  },
  "papermill": {
   "default_parameters": {},
   "duration": 13.643018,
   "end_time": "2023-05-30T16:39:51.825954",
   "environment_variables": {},
   "exception": null,
   "input_path": "__notebook__.ipynb",
   "output_path": "__notebook__.ipynb",
   "parameters": {},
   "start_time": "2023-05-30T16:39:38.182936",
   "version": "2.4.0"
  }
 },
 "nbformat": 4,
 "nbformat_minor": 5
}
