{
 "cells": [
  {
   "cell_type": "markdown",
   "id": "d7dcf47f",
   "metadata": {
    "papermill": {
     "duration": 0.006687,
     "end_time": "2023-05-30T16:54:46.953466",
     "exception": false,
     "start_time": "2023-05-30T16:54:46.946779",
     "status": "completed"
    },
    "tags": []
   },
   "source": [
    "**This notebook is an exercise in the [Data Cleaning](https://www.kaggle.com/learn/data-cleaning) course.  You can reference the tutorial at [this link](https://www.kaggle.com/alexisbcook/character-encodings).**\n",
    "\n",
    "---\n"
   ]
  },
  {
   "cell_type": "markdown",
   "id": "28c3c8ca",
   "metadata": {
    "papermill": {
     "duration": 0.006195,
     "end_time": "2023-05-30T16:54:46.966068",
     "exception": false,
     "start_time": "2023-05-30T16:54:46.959873",
     "status": "completed"
    },
    "tags": []
   },
   "source": [
    "In this exercise, you'll apply what you learned in the **Character encodings** tutorial.\n",
    "\n",
    "# Setup\n",
    "\n",
    "The questions below will give you feedback on your work. Run the following cell to set up the feedback system."
   ]
  },
  {
   "cell_type": "code",
   "execution_count": 1,
   "id": "9922a383",
   "metadata": {
    "execution": {
     "iopub.execute_input": "2023-05-30T16:54:46.980314Z",
     "iopub.status.busy": "2023-05-30T16:54:46.979912Z",
     "iopub.status.idle": "2023-05-30T16:54:47.077341Z",
     "shell.execute_reply": "2023-05-30T16:54:47.076236Z"
    },
    "papermill": {
     "duration": 0.107534,
     "end_time": "2023-05-30T16:54:47.079829",
     "exception": false,
     "start_time": "2023-05-30T16:54:46.972295",
     "status": "completed"
    },
    "tags": []
   },
   "outputs": [
    {
     "name": "stdout",
     "output_type": "stream",
     "text": [
      "Setup Complete\n"
     ]
    }
   ],
   "source": [
    "from learntools.core import binder\n",
    "binder.bind(globals())\n",
    "from learntools.data_cleaning.ex4 import *\n",
    "print(\"Setup Complete\")"
   ]
  },
  {
   "cell_type": "markdown",
   "id": "3f48a0c6",
   "metadata": {
    "papermill": {
     "duration": 0.006051,
     "end_time": "2023-05-30T16:54:47.092438",
     "exception": false,
     "start_time": "2023-05-30T16:54:47.086387",
     "status": "completed"
    },
    "tags": []
   },
   "source": [
    "# Get our environment set up\n",
    "\n",
    "The first thing we'll need to do is load in the libraries we'll be using."
   ]
  },
  {
   "cell_type": "code",
   "execution_count": 2,
   "id": "aeae1d3b",
   "metadata": {
    "execution": {
     "iopub.execute_input": "2023-05-30T16:54:47.106773Z",
     "iopub.status.busy": "2023-05-30T16:54:47.106383Z",
     "iopub.status.idle": "2023-05-30T16:54:47.112135Z",
     "shell.execute_reply": "2023-05-30T16:54:47.111001Z"
    },
    "papermill": {
     "duration": 0.015822,
     "end_time": "2023-05-30T16:54:47.114374",
     "exception": false,
     "start_time": "2023-05-30T16:54:47.098552",
     "status": "completed"
    },
    "tags": []
   },
   "outputs": [],
   "source": [
    "# modules we'll use\n",
    "import pandas as pd\n",
    "import numpy as np\n",
    "\n",
    "# helpful character encoding module\n",
    "import charset_normalizer\n",
    "\n",
    "# set seed for reproducibility\n",
    "np.random.seed(0)"
   ]
  },
  {
   "cell_type": "markdown",
   "id": "0ca650f8",
   "metadata": {
    "papermill": {
     "duration": 0.007297,
     "end_time": "2023-05-30T16:54:47.128091",
     "exception": false,
     "start_time": "2023-05-30T16:54:47.120794",
     "status": "completed"
    },
    "tags": []
   },
   "source": [
    "# 1) What are encodings?\n",
    "\n",
    "You're working with a dataset composed of bytes.  Run the code cell below to print a sample entry."
   ]
  },
  {
   "cell_type": "code",
   "execution_count": 3,
   "id": "1ed3df6f",
   "metadata": {
    "execution": {
     "iopub.execute_input": "2023-05-30T16:54:47.141981Z",
     "iopub.status.busy": "2023-05-30T16:54:47.141592Z",
     "iopub.status.idle": "2023-05-30T16:54:47.147370Z",
     "shell.execute_reply": "2023-05-30T16:54:47.146354Z"
    },
    "papermill": {
     "duration": 0.015699,
     "end_time": "2023-05-30T16:54:47.149876",
     "exception": false,
     "start_time": "2023-05-30T16:54:47.134177",
     "status": "completed"
    },
    "tags": []
   },
   "outputs": [
    {
     "name": "stdout",
     "output_type": "stream",
     "text": [
      "b'\\xa7A\\xa6n'\n",
      "data type: <class 'bytes'>\n"
     ]
    }
   ],
   "source": [
    "sample_entry = b'\\xa7A\\xa6n'\n",
    "print(sample_entry)\n",
    "print('data type:', type(sample_entry))"
   ]
  },
  {
   "cell_type": "markdown",
   "id": "6c580a85",
   "metadata": {
    "papermill": {
     "duration": 0.006076,
     "end_time": "2023-05-30T16:54:47.162320",
     "exception": false,
     "start_time": "2023-05-30T16:54:47.156244",
     "status": "completed"
    },
    "tags": []
   },
   "source": [
    "You notice that it doesn't use the standard UTF-8 encoding. \n",
    "\n",
    "Use the next code cell to create a variable `new_entry` that changes the encoding from `\"big5-tw\"` to `\"utf-8\"`.  `new_entry` should have the bytes datatype."
   ]
  },
  {
   "cell_type": "code",
   "execution_count": 4,
   "id": "7b0a5c43",
   "metadata": {
    "execution": {
     "iopub.execute_input": "2023-05-30T16:54:47.176595Z",
     "iopub.status.busy": "2023-05-30T16:54:47.176223Z",
     "iopub.status.idle": "2023-05-30T16:54:47.186861Z",
     "shell.execute_reply": "2023-05-30T16:54:47.185839Z"
    },
    "papermill": {
     "duration": 0.020388,
     "end_time": "2023-05-30T16:54:47.189033",
     "exception": false,
     "start_time": "2023-05-30T16:54:47.168645",
     "status": "completed"
    },
    "tags": []
   },
   "outputs": [
    {
     "data": {
      "application/javascript": [
       "parent.postMessage({\"jupyterEvent\": \"custom.exercise_interaction\", \"data\": {\"outcomeType\": 1, \"valueTowardsCompletion\": 0.3333333333333333, \"interactionType\": 1, \"questionType\": 1, \"questionId\": \"1_EncodingsIntro\", \"learnToolsVersion\": \"0.3.4\", \"failureMessage\": \"\", \"exceptionClass\": \"\", \"trace\": \"\"}}, \"*\")"
      ],
      "text/plain": [
       "<IPython.core.display.Javascript object>"
      ]
     },
     "metadata": {},
     "output_type": "display_data"
    },
    {
     "data": {
      "text/markdown": [
       "<span style=\"color:#33cc33\">Correct</span>"
      ],
      "text/plain": [
       "Correct"
      ]
     },
     "metadata": {},
     "output_type": "display_data"
    }
   ],
   "source": [
    "before = sample_entry.decode(\"big5-tw\")\n",
    "new_entry = before.encode()\n",
    "# Check your answer\n",
    "q1.check()"
   ]
  },
  {
   "cell_type": "code",
   "execution_count": 5,
   "id": "48d1b6b9",
   "metadata": {
    "execution": {
     "iopub.execute_input": "2023-05-30T16:54:47.203845Z",
     "iopub.status.busy": "2023-05-30T16:54:47.203503Z",
     "iopub.status.idle": "2023-05-30T16:54:47.207657Z",
     "shell.execute_reply": "2023-05-30T16:54:47.206653Z"
    },
    "papermill": {
     "duration": 0.014253,
     "end_time": "2023-05-30T16:54:47.209778",
     "exception": false,
     "start_time": "2023-05-30T16:54:47.195525",
     "status": "completed"
    },
    "tags": []
   },
   "outputs": [],
   "source": [
    "# Lines below will give you a hint or solution code\n",
    "#q1.hint()\n",
    "#q1.solution()"
   ]
  },
  {
   "cell_type": "markdown",
   "id": "27bc30df",
   "metadata": {
    "papermill": {
     "duration": 0.00613,
     "end_time": "2023-05-30T16:54:47.222423",
     "exception": false,
     "start_time": "2023-05-30T16:54:47.216293",
     "status": "completed"
    },
    "tags": []
   },
   "source": [
    "# 2) Reading in files with encoding problems\n",
    "\n",
    "Use the code cell below to read in this file at path `\"../input/fatal-police-shootings-in-the-us/PoliceKillingsUS.csv\"`.  \n",
    "\n",
    "Figure out what the correct encoding should be and read in the file to a DataFrame `police_killings`."
   ]
  },
  {
   "cell_type": "code",
   "execution_count": 6,
   "id": "426422e9",
   "metadata": {
    "execution": {
     "iopub.execute_input": "2023-05-30T16:54:47.237048Z",
     "iopub.status.busy": "2023-05-30T16:54:47.236638Z",
     "iopub.status.idle": "2023-05-30T16:54:47.264786Z",
     "shell.execute_reply": "2023-05-30T16:54:47.263707Z"
    },
    "papermill": {
     "duration": 0.038375,
     "end_time": "2023-05-30T16:54:47.267167",
     "exception": false,
     "start_time": "2023-05-30T16:54:47.228792",
     "status": "completed"
    },
    "tags": []
   },
   "outputs": [
    {
     "data": {
      "application/javascript": [
       "parent.postMessage({\"jupyterEvent\": \"custom.exercise_interaction\", \"data\": {\"outcomeType\": 1, \"valueTowardsCompletion\": 0.3333333333333333, \"interactionType\": 1, \"questionType\": 1, \"questionId\": \"2_ReadIn\", \"learnToolsVersion\": \"0.3.4\", \"failureMessage\": \"\", \"exceptionClass\": \"\", \"trace\": \"\"}}, \"*\")"
      ],
      "text/plain": [
       "<IPython.core.display.Javascript object>"
      ]
     },
     "metadata": {},
     "output_type": "display_data"
    },
    {
     "data": {
      "text/markdown": [
       "<span style=\"color:#33cc33\">Correct</span>"
      ],
      "text/plain": [
       "Correct"
      ]
     },
     "metadata": {},
     "output_type": "display_data"
    }
   ],
   "source": [
    "# TODO: Load in the DataFrame correctly.\n",
    "police_killings = pd.read_csv(\"../input/fatal-police-shootings-in-the-us/PoliceKillingsUS.csv\", encoding='Windows-1252')\n",
    "\n",
    "# Check your answer\n",
    "q2.check()"
   ]
  },
  {
   "cell_type": "markdown",
   "id": "f3b01042",
   "metadata": {
    "papermill": {
     "duration": 0.006533,
     "end_time": "2023-05-30T16:54:47.280603",
     "exception": false,
     "start_time": "2023-05-30T16:54:47.274070",
     "status": "completed"
    },
    "tags": []
   },
   "source": [
    "Feel free to use any additional code cells for supplemental work.  To get credit for finishing this question, you'll need to run `q2.check()` and get a result of **Correct**."
   ]
  },
  {
   "cell_type": "code",
   "execution_count": 7,
   "id": "c1d5a466",
   "metadata": {
    "execution": {
     "iopub.execute_input": "2023-05-30T16:54:47.295783Z",
     "iopub.status.busy": "2023-05-30T16:54:47.295403Z",
     "iopub.status.idle": "2023-05-30T16:54:47.300197Z",
     "shell.execute_reply": "2023-05-30T16:54:47.298916Z"
    },
    "papermill": {
     "duration": 0.015206,
     "end_time": "2023-05-30T16:54:47.302544",
     "exception": false,
     "start_time": "2023-05-30T16:54:47.287338",
     "status": "completed"
    },
    "tags": []
   },
   "outputs": [],
   "source": [
    "# (Optional) Use this code cell for any additional work."
   ]
  },
  {
   "cell_type": "code",
   "execution_count": 8,
   "id": "d60d259f",
   "metadata": {
    "execution": {
     "iopub.execute_input": "2023-05-30T16:54:47.318334Z",
     "iopub.status.busy": "2023-05-30T16:54:47.317952Z",
     "iopub.status.idle": "2023-05-30T16:54:47.322195Z",
     "shell.execute_reply": "2023-05-30T16:54:47.321245Z"
    },
    "papermill": {
     "duration": 0.014498,
     "end_time": "2023-05-30T16:54:47.324243",
     "exception": false,
     "start_time": "2023-05-30T16:54:47.309745",
     "status": "completed"
    },
    "tags": []
   },
   "outputs": [],
   "source": [
    "# Lines below will give you a hint or solution code\n",
    "#q2.hint()\n",
    "#q2.solution()"
   ]
  },
  {
   "cell_type": "markdown",
   "id": "df81e250",
   "metadata": {
    "papermill": {
     "duration": 0.006532,
     "end_time": "2023-05-30T16:54:47.337706",
     "exception": false,
     "start_time": "2023-05-30T16:54:47.331174",
     "status": "completed"
    },
    "tags": []
   },
   "source": [
    "# 3) Saving your files with UTF-8 encoding\n",
    "\n",
    "Save a version of the police killings dataset to CSV with UTF-8 encoding.  Your answer will be marked correct after saving this file.  \n",
    "\n",
    "Note: When using the `to_csv()` method, supply only the name of the file (e.g., `\"my_file.csv\"`).  This saves the file at the filepath `\"/kaggle/working/my_file.csv\"`."
   ]
  },
  {
   "cell_type": "code",
   "execution_count": 9,
   "id": "6d66608e",
   "metadata": {
    "execution": {
     "iopub.execute_input": "2023-05-30T16:54:47.353391Z",
     "iopub.status.busy": "2023-05-30T16:54:47.352999Z",
     "iopub.status.idle": "2023-05-30T16:54:47.361506Z",
     "shell.execute_reply": "2023-05-30T16:54:47.360270Z"
    },
    "papermill": {
     "duration": 0.019424,
     "end_time": "2023-05-30T16:54:47.363921",
     "exception": false,
     "start_time": "2023-05-30T16:54:47.344497",
     "status": "completed"
    },
    "tags": []
   },
   "outputs": [
    {
     "data": {
      "application/javascript": [
       "parent.postMessage({\"jupyterEvent\": \"custom.exercise_interaction\", \"data\": {\"outcomeType\": 2, \"failureMessage\": \"Please save a CSV file and run this code cell again to get credit!\", \"interactionType\": 1, \"questionType\": 2, \"questionId\": \"3_SaveCSV\", \"learnToolsVersion\": \"0.3.4\", \"valueTowardsCompletion\": 0.0, \"exceptionClass\": \"\", \"trace\": \"\"}}, \"*\")"
      ],
      "text/plain": [
       "<IPython.core.display.Javascript object>"
      ]
     },
     "metadata": {},
     "output_type": "display_data"
    },
    {
     "data": {
      "text/markdown": [
       "<span style=\"color:#cc3333\">Incorrect:</span> Please save a CSV file and run this code cell again to get credit!"
      ],
      "text/plain": [
       "Incorrect: Please save a CSV file and run this code cell again to get credit!"
      ]
     },
     "metadata": {},
     "output_type": "display_data"
    }
   ],
   "source": [
    "# TODO: Save the police killings dataset to CSV\n",
    "____\n",
    "\n",
    "# Check your answer\n",
    "q3.check()"
   ]
  },
  {
   "cell_type": "code",
   "execution_count": 10,
   "id": "78e00b26",
   "metadata": {
    "execution": {
     "iopub.execute_input": "2023-05-30T16:54:47.381064Z",
     "iopub.status.busy": "2023-05-30T16:54:47.380619Z",
     "iopub.status.idle": "2023-05-30T16:54:47.385639Z",
     "shell.execute_reply": "2023-05-30T16:54:47.384447Z"
    },
    "papermill": {
     "duration": 0.016143,
     "end_time": "2023-05-30T16:54:47.387918",
     "exception": false,
     "start_time": "2023-05-30T16:54:47.371775",
     "status": "completed"
    },
    "tags": []
   },
   "outputs": [],
   "source": [
    "# Lines below will give you a hint or solution code\n",
    "#q3.hint()\n",
    "#q3.solution()"
   ]
  },
  {
   "cell_type": "markdown",
   "id": "7d09b4dd",
   "metadata": {
    "papermill": {
     "duration": 0.006947,
     "end_time": "2023-05-30T16:54:47.402279",
     "exception": false,
     "start_time": "2023-05-30T16:54:47.395332",
     "status": "completed"
    },
    "tags": []
   },
   "source": [
    "# (Optional) More practice\n",
    "\n",
    "Check out [this dataset of files in different character encodings](https://www.kaggle.com/rtatman/character-encoding-examples). Can you read in all the files with their original encodings and them save them out as UTF-8 files?\n",
    "\n",
    "If you have a file that's in UTF-8 but has just a couple of weird-looking characters in it, you can try out the [ftfy module](https://ftfy.readthedocs.io/en/latest/#) and see if it helps. \n",
    "\n",
    "# Keep going\n",
    "\n",
    "In the final lesson, learn how to [**clean up inconsistent text entries**](https://www.kaggle.com/alexisbcook/inconsistent-data-entry) in your dataset."
   ]
  },
  {
   "cell_type": "markdown",
   "id": "7c0b5f2c",
   "metadata": {
    "papermill": {
     "duration": 0.006992,
     "end_time": "2023-05-30T16:54:47.416718",
     "exception": false,
     "start_time": "2023-05-30T16:54:47.409726",
     "status": "completed"
    },
    "tags": []
   },
   "source": [
    "---\n",
    "\n",
    "\n",
    "\n",
    "\n",
    "*Have questions or comments? Visit the [course discussion forum](https://www.kaggle.com/learn/data-cleaning/discussion) to chat with other learners.*"
   ]
  }
 ],
 "metadata": {
  "kernelspec": {
   "display_name": "Python 3",
   "language": "python",
   "name": "python3"
  },
  "language_info": {
   "codemirror_mode": {
    "name": "ipython",
    "version": 3
   },
   "file_extension": ".py",
   "mimetype": "text/x-python",
   "name": "python",
   "nbconvert_exporter": "python",
   "pygments_lexer": "ipython3",
   "version": "3.10.10"
  },
  "papermill": {
   "default_parameters": {},
   "duration": 13.554288,
   "end_time": "2023-05-30T16:54:48.247646",
   "environment_variables": {},
   "exception": null,
   "input_path": "__notebook__.ipynb",
   "output_path": "__notebook__.ipynb",
   "parameters": {},
   "start_time": "2023-05-30T16:54:34.693358",
   "version": "2.4.0"
  }
 },
 "nbformat": 4,
 "nbformat_minor": 5
}
